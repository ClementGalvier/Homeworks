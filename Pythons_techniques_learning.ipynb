{
 "cells": [
  {
   "cell_type": "markdown",
   "id": "53563d6f",
   "metadata": {},
   "source": [
    "#  Smart Python coding"
   ]
  },
  {
   "cell_type": "markdown",
   "id": "abb9989f",
   "metadata": {},
   "source": [
    "Pokemon_lab Takeaways (week 1 & 2)"
   ]
  },
  {
   "cell_type": "code",
   "execution_count": null,
   "id": "ffbbff55",
   "metadata": {},
   "outputs": [],
   "source": [
    "## for loop:\n",
    "for gym in gyms: # look at each gym\n",
    "    for player_id, player_dict in poke_players.items(): # look at all the players and their gyms\n",
    "        if gym in player_dict['gyms_visited']: # if the current gym is one a player has visited\n",
    "            print(\"{} has visited {}\".format(player_dict['player_name'], gym)) # print that they have visited it.\n",
    "\n",
    "\n",
    "#concatenate methods\n",
    "\n",
    "#this technique....\n",
    "    remove_raw_pd= raw_pd.replace('\"',\"\")\n",
    "    split_raw_pd = remove_raw_pd.split(\"\\n\")\n",
    "#is actually equal to:\n",
    "newlines = raw_pd.replace('\"','').split('\\n')\n",
    "\n",
    "\n",
    "#to add clean lines to my dictionary\n",
    "new_pd = []\n",
    "for line in newlines:\n",
    "    new_pd.append(line.split(','))\n",
    "new_pd[:2]\n",
    "\n",
    "\n",
    "### Zip function\n",
    "new_pd_dict = {} # empty dict toa append to.\n",
    "\n",
    "for row in body:\n",
    "    poke = {i:j for i,j in zip(header, row)} # goes through each row and uses the header to create keys.\n",
    "    #poke = {i:j for i,j in zip(header, row)} #  invented key:value pair i&j: for each pair, I allocate to i the header and to j to row (value) equivalent\n",
    "    new_pd_dict[poke['PokedexNumber']] = poke\n",
    "\n",
    "\n",
    "\n",
    "\n",
    "## how to transpose my new_pd\n",
    "# Base solution\n",
    "new_pd_dict_columns = {}\n",
    "\n",
    "# pretty much have values that contain all of a type of item\n",
    "# new_pd_dict_columns['poke_name'] = [Every pokemons name]\n",
    "\n",
    "# creating place holders\n",
    "for col_name in header:\n",
    "    new_pd_dict_columns[col_name] = []\n",
    "\n",
    "for poke_id, single_poke_dict in new_pd_dict.items(): # go through every individual pokemons dict\n",
    "    for field, attribute in single_poke_dict.items(): # go through all the values in the dict\n",
    "        new_pd_dict_columns[field].append(attribute) "
   ]
  },
  {
   "cell_type": "markdown",
   "id": "d13b04a2",
   "metadata": {},
   "source": [
    "# Pandas as pd"
   ]
  },
  {
   "cell_type": "markdown",
   "id": "01628cdd",
   "metadata": {},
   "source": [
    "Main way to manipulate data in Python. "
   ]
  },
  {
   "cell_type": "code",
   "execution_count": 1,
   "id": "566e78b2",
   "metadata": {},
   "outputs": [
    {
     "ename": "NameError",
     "evalue": "name 'ufo' is not defined",
     "output_type": "error",
     "traceback": [
      "\u001b[1;31m---------------------------------------------------------------------------\u001b[0m",
      "\u001b[1;31mNameError\u001b[0m                                 Traceback (most recent call last)",
      "\u001b[1;32mc:\\Users\\clement.galvier\\OneDrive - VIRGIN ACTIVE SINGAPORE PTE LTD\\Documents\\GeneralAssembly\\my_materials\\Pythons_techniques_learning.ipynb Cell 6'\u001b[0m in \u001b[0;36m<cell line: 4>\u001b[1;34m()\u001b[0m\n\u001b[0;32m      <a href='vscode-notebook-cell:/c%3A/Users/clement.galvier/OneDrive%20-%20VIRGIN%20ACTIVE%20SINGAPORE%20PTE%20LTD/Documents/GeneralAssembly/my_materials/Pythons_techniques_learning.ipynb#ch0000004?line=0'>1</a>\u001b[0m \u001b[39m##pandas\u001b[39;00m\n\u001b[0;32m      <a href='vscode-notebook-cell:/c%3A/Users/clement.galvier/OneDrive%20-%20VIRGIN%20ACTIVE%20SINGAPORE%20PTE%20LTD/Documents/GeneralAssembly/my_materials/Pythons_techniques_learning.ipynb#ch0000004?line=1'>2</a>\u001b[0m \n\u001b[0;32m      <a href='vscode-notebook-cell:/c%3A/Users/clement.galvier/OneDrive%20-%20VIRGIN%20ACTIVE%20SINGAPORE%20PTE%20LTD/Documents/GeneralAssembly/my_materials/Pythons_techniques_learning.ipynb#ch0000004?line=2'>3</a>\u001b[0m \u001b[39m#always call your column in brackets\u001b[39;00m\n\u001b[1;32m----> <a href='vscode-notebook-cell:/c%3A/Users/clement.galvier/OneDrive%20-%20VIRGIN%20ACTIVE%20SINGAPORE%20PTE%20LTD/Documents/GeneralAssembly/my_materials/Pythons_techniques_learning.ipynb#ch0000004?line=3'>4</a>\u001b[0m ufo[\u001b[39m'\u001b[39m\u001b[39mColors Reported\u001b[39m\u001b[39m'\u001b[39m]\u001b[39m.\u001b[39mhead()\n\u001b[0;32m      <a href='vscode-notebook-cell:/c%3A/Users/clement.galvier/OneDrive%20-%20VIRGIN%20ACTIVE%20SINGAPORE%20PTE%20LTD/Documents/GeneralAssembly/my_materials/Pythons_techniques_learning.ipynb#ch0000004?line=4'>5</a>\u001b[0m \u001b[39m# Accessing columns as a dataframe uses [[]]. \u001b[39;00m\n\u001b[0;32m      <a href='vscode-notebook-cell:/c%3A/Users/clement.galvier/OneDrive%20-%20VIRGIN%20ACTIVE%20SINGAPORE%20PTE%20LTD/Documents/GeneralAssembly/my_materials/Pythons_techniques_learning.ipynb#ch0000004?line=5'>6</a>\u001b[0m ufo[[\u001b[39m'\u001b[39m\u001b[39mCity\u001b[39m\u001b[39m'\u001b[39m, \u001b[39m'\u001b[39m\u001b[39mState\u001b[39m\u001b[39m'\u001b[39m]]\u001b[39m.\u001b[39mhead() \u001b[39m# example 1\u001b[39;00m\n",
      "\u001b[1;31mNameError\u001b[0m: name 'ufo' is not defined"
     ]
    }
   ],
   "source": [
    "\n",
    "##pandas\n",
    "\n",
    "#always call your column in brackets\n",
    "ufo['Colors Reported'].head()\n",
    "# Accessing columns as a dataframe uses [[]]. \n",
    "ufo[['City', 'State']].head() # example 1\n",
    "cars[(cars['mpg'] > 30)] #example 2\n",
    "\n",
    "#Filtering\n",
    "cars[(cars['cyl'] == 4) & (cars['am'] == 1)]\n"
   ]
  },
  {
   "cell_type": "markdown",
   "id": "49f0b834",
   "metadata": {},
   "source": [
    "for filtering, use loc ( location row, columns)"
   ]
  },
  {
   "cell_type": "code",
   "execution_count": 1,
   "id": "fbb93a2b",
   "metadata": {},
   "outputs": [
    {
     "ename": "NameError",
     "evalue": "name 'ufo' is not defined",
     "output_type": "error",
     "traceback": [
      "\u001b[1;31m---------------------------------------------------------------------------\u001b[0m",
      "\u001b[1;31mNameError\u001b[0m                                 Traceback (most recent call last)",
      "\u001b[1;32mc:\\Users\\clement.galvier\\OneDrive - VIRGIN ACTIVE SINGAPORE PTE LTD\\Documents\\GeneralAssembly\\my_materials\\Pythons_techniques_learning.ipynb Cell 6'\u001b[0m in \u001b[0;36m<cell line: 1>\u001b[1;34m()\u001b[0m\n\u001b[1;32m----> <a href='vscode-notebook-cell:/c%3A/Users/clement.galvier/OneDrive%20-%20VIRGIN%20ACTIVE%20SINGAPORE%20PTE%20LTD/Documents/GeneralAssembly/my_materials/Pythons_techniques_learning.ipynb#ch0000005?line=0'>1</a>\u001b[0m ufo\u001b[39m.\u001b[39mloc[(ufo\u001b[39m.\u001b[39mState \u001b[39m==\u001b[39m \u001b[39m'\u001b[39m\u001b[39mNM\u001b[39m\u001b[39m'\u001b[39m) \u001b[39m&\u001b[39m (ufo\u001b[39m.\u001b[39mCity \u001b[39m==\u001b[39m \u001b[39m'\u001b[39m\u001b[39mRoswell\u001b[39m\u001b[39m'\u001b[39m), :]\n",
      "\u001b[1;31mNameError\u001b[0m: name 'ufo' is not defined"
     ]
    }
   ],
   "source": [
    "ufo.loc[(ufo.State == 'NM') & (ufo.City == 'Roswell'), :]"
   ]
  },
  {
   "cell_type": "code",
   "execution_count": 6,
   "id": "4c3e734b",
   "metadata": {},
   "outputs": [
    {
     "ename": "NameError",
     "evalue": "name 'diamonds' is not defined",
     "output_type": "error",
     "traceback": [
      "\u001b[1;31m---------------------------------------------------------------------------\u001b[0m",
      "\u001b[1;31mNameError\u001b[0m                                 Traceback (most recent call last)",
      "\u001b[1;32mc:\\Users\\clement.galvier\\OneDrive - VIRGIN ACTIVE SINGAPORE PTE LTD\\Documents\\GeneralAssembly\\my_materials\\Pythons_techniques_learning.ipynb Cell 9'\u001b[0m in \u001b[0;36m<cell line: 1>\u001b[1;34m()\u001b[0m\n\u001b[1;32m----> <a href='vscode-notebook-cell:/c%3A/Users/clement.galvier/OneDrive%20-%20VIRGIN%20ACTIVE%20SINGAPORE%20PTE%20LTD/Documents/GeneralAssembly/my_materials/Pythons_techniques_learning.ipynb#ch0000011?line=0'>1</a>\u001b[0m diamonds\u001b[39m.\u001b[39mdescribe(include\u001b[39m=\u001b[39m\u001b[39m'\u001b[39m\u001b[39mall\u001b[39m\u001b[39m'\u001b[39m) \u001b[39m## to describe numeric+non numeric dimensions\u001b[39;00m\n\u001b[0;32m      <a href='vscode-notebook-cell:/c%3A/Users/clement.galvier/OneDrive%20-%20VIRGIN%20ACTIVE%20SINGAPORE%20PTE%20LTD/Documents/GeneralAssembly/my_materials/Pythons_techniques_learning.ipynb#ch0000011?line=1'>2</a>\u001b[0m diamonds[\u001b[39m'\u001b[39m\u001b[39mcut\u001b[39m\u001b[39m'\u001b[39m]\u001b[39m.\u001b[39mvalue_counts()\n\u001b[0;32m      <a href='vscode-notebook-cell:/c%3A/Users/clement.galvier/OneDrive%20-%20VIRGIN%20ACTIVE%20SINGAPORE%20PTE%20LTD/Documents/GeneralAssembly/my_materials/Pythons_techniques_learning.ipynb#ch0000011?line=2'>3</a>\u001b[0m diamonds[\u001b[39m'\u001b[39m\u001b[39mcut\u001b[39m\u001b[39m'\u001b[39m]\u001b[39m.\u001b[39mvalue_counts(normalize \u001b[39m=\u001b[39m \u001b[39mTrue\u001b[39;00m)\n",
      "\u001b[1;31mNameError\u001b[0m: name 'diamonds' is not defined"
     ]
    }
   ],
   "source": [
    "diamonds.describe(include='all') ## to describe numeric+non numeric dimensions\n",
    "diamonds['cut'].value_counts()\n",
    "diamonds['cut'].value_counts(normalize = True)\n",
    "\n",
    "#Filtering\n",
    "cars[(cars[\"mpg\"]>30)]\n",
    "cars[(cars[\"mpg\"]>30) & (cars[\"disp\"]>75)] #traditional multiple filters using ()\n",
    "\n",
    "hp_cars.loc[hp_cars[\"cyl\"] < 8 , [\"hp\",\"wt\",\"gear\"]] # filter on rows(mask) and show me these clolumns. all in square brackets\n",
    "\n",
    "#GroupBy\n",
    "cars.groupby(by='cyl')['hp'].mean()\n"
   ]
  },
  {
   "cell_type": "markdown",
   "id": "c9901382",
   "metadata": {},
   "source": [
    "# adding / renaming columns in PANDAS"
   ]
  },
  {
   "cell_type": "code",
   "execution_count": 8,
   "id": "fa7af84c",
   "metadata": {},
   "outputs": [
    {
     "ename": "NameError",
     "evalue": "name 'cars' is not defined",
     "output_type": "error",
     "traceback": [
      "\u001b[1;31m---------------------------------------------------------------------------\u001b[0m",
      "\u001b[1;31mNameError\u001b[0m                                 Traceback (most recent call last)",
      "\u001b[1;32mc:\\Users\\clement.galvier\\OneDrive - VIRGIN ACTIVE SINGAPORE PTE LTD\\Documents\\GeneralAssembly\\my_materials\\Pythons_techniques_learning.ipynb Cell 11'\u001b[0m in \u001b[0;36m<cell line: 1>\u001b[1;34m()\u001b[0m\n\u001b[1;32m----> <a href='vscode-notebook-cell:/c%3A/Users/clement.galvier/OneDrive%20-%20VIRGIN%20ACTIVE%20SINGAPORE%20PTE%20LTD/Documents/GeneralAssembly/my_materials/Pythons_techniques_learning.ipynb#ch0000015?line=0'>1</a>\u001b[0m cars[\u001b[39m'\u001b[39m\u001b[39mvalue\u001b[39m\u001b[39m'\u001b[39m] \u001b[39m=\u001b[39m \u001b[39m10000\u001b[39m\u001b[39m+\u001b[39m cars[\u001b[39m'\u001b[39m\u001b[39mcyl\u001b[39m\u001b[39m'\u001b[39m]\u001b[39m*\u001b[39m\u001b[39m1.8\u001b[39m \u001b[39m+\u001b[39m cars[\u001b[39m'\u001b[39m\u001b[39mhp\u001b[39m\u001b[39m'\u001b[39m] \u001b[39m*\u001b[39m\u001b[39m0.98\u001b[39m \u001b[39m#adding a column\u001b[39;00m\n\u001b[0;32m      <a href='vscode-notebook-cell:/c%3A/Users/clement.galvier/OneDrive%20-%20VIRGIN%20ACTIVE%20SINGAPORE%20PTE%20LTD/Documents/GeneralAssembly/my_materials/Pythons_techniques_learning.ipynb#ch0000015?line=1'>2</a>\u001b[0m cars\u001b[39m.\u001b[39mdrop(\u001b[39m'\u001b[39m\u001b[39mvalue\u001b[39m\u001b[39m'\u001b[39m,axis\u001b[39m=\u001b[39m\u001b[39m1\u001b[39m,inplace \u001b[39m=\u001b[39m \u001b[39mTrue\u001b[39;00m) \u001b[39m# removing a column from the df: use inplace = True\u001b[39;00m\n\u001b[0;32m      <a href='vscode-notebook-cell:/c%3A/Users/clement.galvier/OneDrive%20-%20VIRGIN%20ACTIVE%20SINGAPORE%20PTE%20LTD/Documents/GeneralAssembly/my_materials/Pythons_techniques_learning.ipynb#ch0000015?line=3'>4</a>\u001b[0m \u001b[39m#same thing for renaming columns!\u001b[39;00m\n",
      "\u001b[1;31mNameError\u001b[0m: name 'cars' is not defined"
     ]
    }
   ],
   "source": [
    "cars['value'] = 10000+ cars['cyl']*1.8 + cars['hp'] *0.98 #adding a column\n",
    "cars.drop('value',axis=1,inplace = True) # removing a column from the df: use inplace = True\n",
    "\n",
    "#same thing for renaming columns!\n",
    "ufo.rename(columns={\n",
    "    'colors reported': 'colors',\n",
    "    'shape reported': 'shape'\n",
    "}, inplace=True)"
   ]
  },
  {
   "cell_type": "code",
   "execution_count": 9,
   "id": "1d6aded7",
   "metadata": {},
   "outputs": [
    {
     "ename": "NameError",
     "evalue": "name 'pd' is not defined",
     "output_type": "error",
     "traceback": [
      "\u001b[1;31m---------------------------------------------------------------------------\u001b[0m",
      "\u001b[1;31mNameError\u001b[0m                                 Traceback (most recent call last)",
      "\u001b[1;32mc:\\Users\\clement.galvier\\OneDrive - VIRGIN ACTIVE SINGAPORE PTE LTD\\Documents\\GeneralAssembly\\my_materials\\Pythons_techniques_learning.ipynb Cell 12'\u001b[0m in \u001b[0;36m<cell line: 2>\u001b[1;34m()\u001b[0m\n\u001b[0;32m      <a href='vscode-notebook-cell:/c%3A/Users/clement.galvier/OneDrive%20-%20VIRGIN%20ACTIVE%20SINGAPORE%20PTE%20LTD/Documents/GeneralAssembly/my_materials/Pythons_techniques_learning.ipynb#ch0000016?line=0'>1</a>\u001b[0m \u001b[39m#merging 2 tables ( vlookup / left join in SQL )\u001b[39;00m\n\u001b[1;32m----> <a href='vscode-notebook-cell:/c%3A/Users/clement.galvier/OneDrive%20-%20VIRGIN%20ACTIVE%20SINGAPORE%20PTE%20LTD/Documents/GeneralAssembly/my_materials/Pythons_techniques_learning.ipynb#ch0000016?line=1'>2</a>\u001b[0m movie_reviews \u001b[39m=\u001b[39m pd\u001b[39m.\u001b[39mmerge(ratings, movies, how\u001b[39m=\u001b[39m\u001b[39m'\u001b[39m\u001b[39mleft\u001b[39m\u001b[39m'\u001b[39m)\n\u001b[0;32m      <a href='vscode-notebook-cell:/c%3A/Users/clement.galvier/OneDrive%20-%20VIRGIN%20ACTIVE%20SINGAPORE%20PTE%20LTD/Documents/GeneralAssembly/my_materials/Pythons_techniques_learning.ipynb#ch0000016?line=2'>3</a>\u001b[0m movie_reviews\u001b[39m.\u001b[39mhead()\n",
      "\u001b[1;31mNameError\u001b[0m: name 'pd' is not defined"
     ]
    }
   ],
   "source": [
    "#merging 2 tables ( vlookup / left join in SQL )\n",
    "movie_reviews = pd.merge(ratings, movies, how='left')\n",
    "movie_reviews.head()"
   ]
  },
  {
   "cell_type": "code",
   "execution_count": null,
   "id": "72df799a",
   "metadata": {},
   "outputs": [],
   "source": [
    "##using the map function\n",
    "\n",
    "# defining a custom function\n",
    "def is_efficient(x):\n",
    "    if x > 20:\n",
    "        return \"Efficient\"\n",
    "    else:\n",
    "        return \"Wasteful\"\n",
    "\n",
    "# using custom function to define new dataframe column based on condition check outcome\n",
    "cars['fuel_economy'] = cars['mpg'].map(is_efficient)\n",
    "cars['fuel_economy'].value_counts()"
   ]
  },
  {
   "cell_type": "markdown",
   "id": "34633f7b",
   "metadata": {},
   "source": []
  }
 ],
 "metadata": {
  "kernelspec": {
   "display_name": "Python 3.9.12 ('base')",
   "language": "python",
   "name": "python3"
  },
  "language_info": {
   "codemirror_mode": {
    "name": "ipython",
    "version": 3
   },
   "file_extension": ".py",
   "mimetype": "text/x-python",
   "name": "python",
   "nbconvert_exporter": "python",
   "pygments_lexer": "ipython3",
   "version": "3.9.12"
  },
  "vscode": {
   "interpreter": {
    "hash": "25a04f5bcc4cce45f88f55048bde1d1871ccb10dc4647418ede9299c65043aaf"
   }
  }
 },
 "nbformat": 4,
 "nbformat_minor": 5
}
