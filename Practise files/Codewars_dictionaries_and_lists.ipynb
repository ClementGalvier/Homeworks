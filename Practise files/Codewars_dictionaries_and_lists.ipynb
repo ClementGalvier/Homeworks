{
 "cells": [
  {
   "cell_type": "code",
   "execution_count": 3,
   "metadata": {},
   "outputs": [
    {
     "data": {
      "text/plain": [
       "[('bb', 12), ('zz', 11)]"
      ]
     },
     "execution_count": 3,
     "metadata": {},
     "output_type": "execute_result"
    }
   ],
   "source": [
    "dico = {'zz':11,'bb':12}\n",
    "sorted(dico.items())"
   ]
  },
  {
   "cell_type": "markdown",
   "metadata": {},
   "source": [
    "sorting list"
   ]
  },
  {
   "cell_type": "code",
   "execution_count": 16,
   "metadata": {},
   "outputs": [],
   "source": [
    "my_list=[9,8,7,6,5,4]\n",
    "\n",
    "def find_smallest_int(arr):\n",
    "    arr.sort(reverse = False)\n",
    "    return arr[0]"
   ]
  },
  {
   "cell_type": "code",
   "execution_count": 17,
   "metadata": {},
   "outputs": [
    {
     "data": {
      "text/plain": [
       "4"
      ]
     },
     "execution_count": 17,
     "metadata": {},
     "output_type": "execute_result"
    }
   ],
   "source": [
    "find_smallest_int(my_list)"
   ]
  },
  {
   "cell_type": "code",
   "execution_count": 1,
   "metadata": {},
   "outputs": [
    {
     "data": {
      "text/plain": [
       "float"
      ]
     },
     "execution_count": 1,
     "metadata": {},
     "output_type": "execute_result"
    }
   ],
   "source": [
    "import pandas as pd\n",
    "values = [6, 2, 9, 1, 4, 8, 3, 5, 7]\n",
    "float_values =[]\n",
    "\n",
    "for _ in values:\n",
    "    j = float(_)\n",
    "    float_values.append(j)\n",
    "\n",
    "series = pd.Series(float_values)\n",
    "type(float_values[2])"
   ]
  },
  {
   "cell_type": "markdown",
   "metadata": {},
   "source": [
    "In this practice problem, we give you a Series object and your goal is to create an ndarray containing the same values.\n",
    "\n",
    "Remember, we can get an ndarray with the values of a Series by accessing the Series.values attribute."
   ]
  },
  {
   "cell_type": "code",
   "execution_count": 12,
   "metadata": {},
   "outputs": [
    {
     "name": "stdout",
     "output_type": "stream",
     "text": [
      "[6 2 9 1 4 8 3 5 7]\n",
      "0    6\n",
      "1    2\n",
      "2    9\n",
      "3    1\n",
      "4    4\n",
      "5    8\n",
      "6    3\n",
      "7    5\n",
      "8    7\n",
      "dtype: int64\n"
     ]
    }
   ],
   "source": [
    "from numpy import ndarray\n",
    "import pandas as pd\n",
    "from sqlalchemy import column\n",
    "series = pd.Series([6, 2, 9, 1, 4, 8, 3, 5, 7])\n",
    "array = series.values\n",
    "type(array)\n",
    "print(array)\n",
    "print(series)"
   ]
  },
  {
   "cell_type": "code",
   "execution_count": null,
   "metadata": {},
   "outputs": [],
   "source": []
  },
  {
   "cell_type": "code",
   "execution_count": 16,
   "metadata": {},
   "outputs": [
    {
     "data": {
      "text/plain": [
       "0"
      ]
     },
     "execution_count": 16,
     "metadata": {},
     "output_type": "execute_result"
    }
   ],
   "source": [
    "#In this practice problem, we give you a Series object and your goal is to access its index and assign it to a variable.\n",
    "#We can get the index of a Series object accessing the Series.index attribute.\n",
    "\n",
    "import pandas as pd\n",
    "series = pd.Series([6, 2, 9, 1, 4, 8, 3, 5, 7])\n",
    "index = series.index\n",
    "index"
   ]
  },
  {
   "cell_type": "markdown",
   "metadata": {},
   "source": [
    "In this practice problem, we give you a Series object. Your goal is to use slicing to extract the values highlighted in the following image:\n",
    "\n",
    "Target"
   ]
  },
  {
   "cell_type": "code",
   "execution_count": 19,
   "metadata": {},
   "outputs": [
    {
     "data": {
      "text/plain": [
       "1    2\n",
       "2    9\n",
       "3    1\n",
       "4    4\n",
       "5    8\n",
       "6    3\n",
       "7    5\n",
       "dtype: int64"
      ]
     },
     "execution_count": 19,
     "metadata": {},
     "output_type": "execute_result"
    }
   ],
   "source": [
    "import pandas as pd\n",
    "series = pd.Series([6, 2, 9, 1, 4, 8, 3, 5, 7])\n",
    "\n",
    "my_slice = series[1:-1]\n",
    "my_slice"
   ]
  },
  {
   "cell_type": "code",
   "execution_count": 25,
   "metadata": {},
   "outputs": [
    {
     "data": {
      "text/plain": [
       "1    2\n",
       "3    1\n",
       "5    8\n",
       "7    5\n",
       "dtype: int64"
      ]
     },
     "execution_count": 25,
     "metadata": {},
     "output_type": "execute_result"
    }
   ],
   "source": [
    "import pandas as pd\n",
    "series = pd.Series([6, 2, 9, 1, 4, 8, 3, 5, 7])\n",
    "\n",
    "my_slice = series[1:-1:2]\n",
    "my_slice"
   ]
  },
  {
   "cell_type": "code",
   "execution_count": 27,
   "metadata": {},
   "outputs": [
    {
     "data": {
      "text/plain": [
       "5    8\n",
       "6    3\n",
       "7    5\n",
       "8    7\n",
       "dtype: int64"
      ]
     },
     "execution_count": 27,
     "metadata": {},
     "output_type": "execute_result"
    }
   ],
   "source": [
    "import pandas as pd\n",
    "series = pd.Series([6, 2, 9, 1, 4, 8, 3, 5, 7])\n",
    "\n",
    "my_slice = series[-4::1]\n",
    "my_slice"
   ]
  },
  {
   "cell_type": "code",
   "execution_count": 31,
   "metadata": {},
   "outputs": [
    {
     "data": {
      "text/plain": [
       "0    6\n",
       "2    9\n",
       "4    4\n",
       "dtype: int64"
      ]
     },
     "execution_count": 31,
     "metadata": {},
     "output_type": "execute_result"
    }
   ],
   "source": [
    "import pandas as pd\n",
    "series = pd.Series([6, 2, 9, 1, 4, 8, 3, 5, 7])\n",
    "my_slice = series[0:5:2]\n",
    "my_slice"
   ]
  },
  {
   "cell_type": "code",
   "execution_count": 49,
   "metadata": {},
   "outputs": [
    {
     "data": {
      "text/plain": [
       "3    1\n",
       "5    8\n",
       "7    5\n",
       "dtype: int64"
      ]
     },
     "execution_count": 49,
     "metadata": {},
     "output_type": "execute_result"
    }
   ],
   "source": [
    "import pandas as pd\n",
    "series = pd.Series([6, 2, 9, 1, 4, 8, 3, 5, 7])\n",
    "my_slice = series[3:-1:2]\n",
    "my_slice"
   ]
  },
  {
   "cell_type": "code",
   "execution_count": null,
   "metadata": {},
   "outputs": [],
   "source": [
    "#In this practice problem, we want you to create a series object with values [4, 6, 1, 7]. The index should be ['data', 'quest', 'is', 'fun']."
   ]
  },
  {
   "cell_type": "code",
   "execution_count": 53,
   "metadata": {},
   "outputs": [
    {
     "data": {
      "text/plain": [
       "data     4\n",
       "quest    6\n",
       "is       1\n",
       "fun      7\n",
       "dtype: int64"
      ]
     },
     "execution_count": 53,
     "metadata": {},
     "output_type": "execute_result"
    }
   ],
   "source": [
    " \n",
    "index_list = ['data', 'quest', 'is', 'fun']\n",
    "\n",
    "my_serie = pd.Series(values_list)\n",
    "my_serie.index = index_list\n",
    "my_serie"
   ]
  },
  {
   "cell_type": "code",
   "execution_count": 54,
   "metadata": {},
   "outputs": [],
   "source": [
    "import pandas as pd\n",
    "series = pd.Series([28, 9, 82, 38, 44, 55, 23, 7, 64, 59, 5, 76, 12, 89, 50, 25, 33, 45, 93, 60, 72, 21, 89, 86, 26])\n",
    "index = len(series)\n"
   ]
  }
 ],
 "metadata": {
  "kernelspec": {
   "display_name": "Python 3.9.12 ('base')",
   "language": "python",
   "name": "python3"
  },
  "language_info": {
   "codemirror_mode": {
    "name": "ipython",
    "version": 3
   },
   "file_extension": ".py",
   "mimetype": "text/x-python",
   "name": "python",
   "nbconvert_exporter": "python",
   "pygments_lexer": "ipython3",
   "version": "3.9.12"
  },
  "orig_nbformat": 4,
  "vscode": {
   "interpreter": {
    "hash": "f71697013d76e192046347603e9541ea88dc58adcc0e0b5a71eda0b6e40070d8"
   }
  }
 },
 "nbformat": 4,
 "nbformat_minor": 2
}
