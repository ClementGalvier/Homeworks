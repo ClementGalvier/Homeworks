{
 "cells": [
  {
   "cell_type": "code",
   "execution_count": 1,
   "metadata": {},
   "outputs": [],
   "source": [
    "import sys"
   ]
  },
  {
   "cell_type": "code",
   "execution_count": 2,
   "metadata": {},
   "outputs": [
    {
     "name": "stdout",
     "output_type": "stream",
     "text": [
      "3.9.12 (main, Apr  4 2022, 05:22:27) [MSC v.1916 64 bit (AMD64)]\n"
     ]
    }
   ],
   "source": [
    "print(sys.version)"
   ]
  },
  {
   "cell_type": "code",
   "execution_count": 3,
   "metadata": {},
   "outputs": [
    {
     "name": "stdout",
     "output_type": "stream",
     "text": [
      "aiohttp==3.8.1\n",
      "aiosignal==1.2.0\n",
      "alabaster==0.7.12\n",
      "anaconda-client==1.9.0\n",
      "anaconda-navigator==2.1.4\n",
      "anaconda-project==0.10.2\n",
      "anyio==3.5.0\n",
      "appdirs==1.4.4\n",
      "argon2-cffi-bindings==21.2.0\n",
      "argon2-cffi==21.3.0\n",
      "arrow==1.2.2\n",
      "astroid==2.6.6\n",
      "astropy==5.0.4\n",
      "asttokens==2.0.5\n",
      "async-timeout==4.0.1\n",
      "atomicwrites==1.4.0\n",
      "attrs==21.4.0\n",
      "automat==20.2.0\n",
      "autopep8==1.6.0\n",
      "babel==2.9.1\n",
      "backcall==0.2.0\n",
      "backports.functools-lru-cache==1.6.4\n",
      "backports.tempfile==1.0\n",
      "backports.weakref==1.0.post1\n",
      "bcrypt==3.2.0\n",
      "beautifulsoup4==4.11.1\n",
      "binaryornot==0.4.4\n",
      "bitarray==2.4.1\n",
      "bkcharts==0.2\n",
      "black==19.10b0\n",
      "bleach==4.1.0\n",
      "bokeh==2.4.2\n",
      "boto3==1.21.32\n",
      "botocore==1.24.32\n",
      "bottleneck==1.3.4\n",
      "brotlipy==0.7.0\n",
      "cachetools==4.2.2\n",
      "certifi==2021.10.8\n",
      "cffi==1.15.0\n",
      "chardet==4.0.0\n",
      "charset-normalizer==2.0.4\n",
      "click==8.0.4\n",
      "cloudpickle==2.0.0\n",
      "clyent==1.2.2\n",
      "colorama==0.4.4\n",
      "colorcet==2.0.6\n",
      "comtypes==1.1.10\n",
      "conda-build==3.21.8\n",
      "conda-content-trust==0+unknown\n",
      "conda-pack==0.6.0\n",
      "conda-package-handling==1.8.1\n",
      "conda-repo-cli==1.0.4\n",
      "conda-token==0.3.0\n",
      "conda-verify==3.4.2\n",
      "conda==4.13.0\n",
      "constantly==15.1.0\n",
      "cookiecutter==1.7.3\n",
      "cryptography==3.4.8\n",
      "cssselect==1.1.0\n",
      "cycler==0.11.0\n",
      "cython==0.29.28\n",
      "cytoolz==0.11.0\n",
      "daal4py==2021.5.0\n",
      "dask==2022.2.1\n",
      "datashader==0.13.0\n",
      "datashape==0.5.4\n",
      "debugpy==1.5.1\n",
      "decorator==5.1.1\n",
      "defusedxml==0.7.1\n",
      "diff-match-patch==20200713\n",
      "distributed==2022.2.1\n",
      "docutils==0.17.1\n",
      "entrypoints==0.4\n",
      "et-xmlfile==1.1.0\n",
      "executing==0.8.3\n",
      "fastjsonschema==2.15.1\n",
      "filelock==3.6.0\n",
      "flake8==3.9.2\n",
      "flask==1.1.2\n",
      "fonttools==4.25.0\n",
      "frozenlist==1.2.0\n",
      "fsspec==2022.2.0\n",
      "future==0.18.2\n",
      "gensim==4.1.2\n",
      "glob2==0.7\n",
      "google-api-core==1.25.1\n",
      "google-auth==1.33.0\n",
      "google-cloud-core==1.7.1\n",
      "google-cloud-storage==1.31.0\n",
      "google-crc32c==1.1.2\n",
      "google-resumable-media==1.3.1\n",
      "googleapis-common-protos==1.53.0\n",
      "greenlet==1.1.1\n",
      "grpcio==1.42.0\n",
      "h5py==3.6.0\n",
      "heapdict==1.0.1\n",
      "holoviews==1.14.8\n",
      "hvplot==0.7.3\n",
      "hyperlink==21.0.0\n",
      "idna==3.3\n",
      "imagecodecs==2021.8.26\n",
      "imageio==2.9.0\n",
      "imagesize==1.3.0\n",
      "importlib-metadata==4.11.3\n",
      "incremental==21.3.0\n",
      "inflection==0.5.1\n",
      "iniconfig==1.1.1\n",
      "intake==0.6.5\n",
      "intervaltree==3.1.0\n",
      "ipykernel==6.9.1\n",
      "ipython-genutils==0.2.0\n",
      "ipython==8.2.0\n",
      "ipywidgets==7.6.5\n",
      "isort==5.9.3\n",
      "itemadapter==0.3.0\n",
      "itemloaders==1.0.4\n",
      "itsdangerous==2.0.1\n",
      "jdcal==1.4.1\n",
      "jedi==0.18.1\n",
      "jinja2-time==0.2.0\n",
      "jinja2==2.11.3\n",
      "jmespath==0.10.0\n",
      "joblib==1.1.0\n",
      "json5==0.9.6\n",
      "jsonschema==4.4.0\n",
      "jupyter-client==6.1.12\n",
      "jupyter-console==6.4.0\n",
      "jupyter-core==4.9.2\n",
      "jupyter-server==1.13.5\n",
      "jupyter==1.0.0\n",
      "jupyterlab-pygments==0.1.2\n",
      "jupyterlab-server==2.10.3\n",
      "jupyterlab-widgets==1.0.0\n",
      "jupyterlab==3.3.2\n",
      "keyring==23.4.0\n",
      "kiwisolver==1.3.2\n",
      "lazy-object-proxy==1.6.0\n",
      "libarchive-c==2.9\n",
      "llvmlite==0.38.0\n",
      "locket==0.2.1\n",
      "lxml==4.8.0\n",
      "markdown==3.3.4\n",
      "markupsafe==2.0.1\n",
      "matplotlib-inline==0.1.2\n",
      "matplotlib==3.5.1\n",
      "mccabe==0.6.1\n",
      "menuinst==1.4.18\n",
      "missingno==0.4.2\n",
      "mistune==0.8.4\n",
      "mkl-fft==1.3.1\n",
      "mkl-random==1.2.2\n",
      "mkl-service==2.4.0\n",
      "mock==4.0.3\n",
      "mpmath==1.2.1\n",
      "msgpack==1.0.2\n",
      "multidict==5.1.0\n",
      "multipledispatch==0.6.0\n",
      "munkres==1.1.4\n",
      "mypy-extensions==0.4.3\n",
      "navigator-updater==0.2.1\n",
      "nbclassic==0.3.5\n",
      "nbclient==0.5.13\n",
      "nbconvert==6.4.4\n",
      "nbformat==5.3.0\n",
      "nest-asyncio==1.5.5\n",
      "networkx==2.7.1\n",
      "nltk==3.7\n",
      "nose==1.3.7\n",
      "notebook==6.4.8\n",
      "numba==0.55.1\n",
      "numexpr==2.8.1\n",
      "numpy==1.21.5\n",
      "numpydoc==1.2\n",
      "olefile==0.46\n",
      "openpyxl==3.0.9\n",
      "packaging==21.3\n",
      "pandas==1.4.2\n",
      "pandocfilters==1.5.0\n",
      "panel==0.13.0\n",
      "param==1.12.0\n",
      "paramiko==2.8.1\n",
      "parsel==1.6.0\n",
      "parso==0.8.3\n",
      "partd==1.2.0\n",
      "pathspec==0.7.0\n",
      "patsy==0.5.2\n",
      "pep8==1.7.1\n",
      "pexpect==4.8.0\n",
      "pickleshare==0.7.5\n",
      "pillow==9.0.1\n",
      "pip==21.2.4\n",
      "pkginfo==1.8.2\n",
      "plotly==5.6.0\n",
      "pluggy==1.0.0\n",
      "poyo==0.5.0\n",
      "prometheus-client==0.13.1\n",
      "prompt-toolkit==3.0.20\n",
      "protego==0.1.16\n",
      "protobuf==3.19.1\n",
      "psutil==5.8.0\n",
      "ptyprocess==0.7.0\n",
      "pure-eval==0.2.2\n",
      "py==1.11.0\n",
      "pyasn1-modules==0.2.8\n",
      "pyasn1==0.4.8\n",
      "pycodestyle==2.7.0\n",
      "pycosat==0.6.3\n",
      "pycparser==2.21\n",
      "pyct==0.4.6\n",
      "pycurl==7.44.1\n",
      "pydispatcher==2.0.5\n",
      "pydocstyle==6.1.1\n",
      "pyerfa==2.0.0\n",
      "pyflakes==2.3.1\n",
      "pygments==2.11.2\n",
      "pyhamcrest==2.0.2\n",
      "pyjwt==2.1.0\n",
      "pylint==2.9.6\n",
      "pyls-spyder==0.4.0\n",
      "pynacl==1.4.0\n",
      "pyodbc==4.0.32\n",
      "pyopenssl==21.0.0\n",
      "pyparsing==3.0.4\n",
      "pyreadline==2.1\n",
      "pyrsistent==0.18.0\n",
      "pysocks==1.7.1\n",
      "pytest==7.1.1\n",
      "python-dateutil==2.8.2\n",
      "python-lsp-black==1.0.0\n",
      "python-lsp-jsonrpc==1.0.0\n",
      "python-lsp-server==1.2.4\n",
      "python-slugify==5.0.2\n",
      "python-snappy==0.6.0\n",
      "pytz==2021.3\n",
      "pyviz-comms==2.0.2\n",
      "pywavelets==1.3.0\n",
      "pywin32-ctypes==0.2.0\n",
      "pywin32==302\n",
      "pywinpty==2.0.2\n",
      "pyyaml==6.0\n",
      "pyzmq==22.3.0\n",
      "qdarkstyle==3.0.2\n",
      "qstylizer==0.1.10\n",
      "qtawesome==1.0.3\n",
      "qtconsole==5.3.0\n",
      "qtpy==2.0.1\n",
      "queuelib==1.5.0\n",
      "regex==2022.3.15\n",
      "requests-file==1.5.1\n",
      "requests==2.27.1\n",
      "rope==0.22.0\n",
      "rsa==4.7.2\n",
      "rtree==0.9.7\n",
      "ruamel-yaml-conda==0.15.100\n",
      "s3transfer==0.5.0\n",
      "scikit-image==0.19.2\n",
      "scikit-learn-intelex==2021.20220215.102710\n",
      "scikit-learn==1.0.2\n",
      "scipy==1.7.3\n",
      "scrapy==2.6.1\n",
      "seaborn==0.11.2\n",
      "send2trash==1.8.0\n",
      "service-identity==18.1.0\n",
      "setuptools==61.2.0\n",
      "sip==4.19.13\n",
      "six==1.16.0\n",
      "smart-open==5.1.0\n",
      "sniffio==1.2.0\n",
      "snowballstemmer==2.2.0\n",
      "sortedcollections==2.1.0\n",
      "sortedcontainers==2.4.0\n",
      "soupsieve==2.3.1\n",
      "sphinx==4.4.0\n",
      "sphinxcontrib-applehelp==1.0.2\n",
      "sphinxcontrib-devhelp==1.0.2\n",
      "sphinxcontrib-htmlhelp==2.0.0\n",
      "sphinxcontrib-jsmath==1.0.1\n",
      "sphinxcontrib-qthelp==1.0.3\n",
      "sphinxcontrib-serializinghtml==1.1.5\n",
      "spyder-kernels==2.1.3\n",
      "spyder==5.1.5\n",
      "sqlalchemy==1.4.32\n",
      "stack-data==0.2.0\n",
      "statsmodels==0.13.2\n",
      "sympy==1.10.1\n",
      "tables==3.6.1\n",
      "tabulate==0.8.9\n",
      "tbb==0.2\n",
      "tblib==1.7.0\n",
      "tenacity==8.0.1\n",
      "terminado==0.13.1\n",
      "testpath==0.5.0\n",
      "text-unidecode==1.3\n",
      "textdistance==4.2.1\n",
      "threadpoolctl==2.2.0\n",
      "three-merge==0.1.1\n",
      "tifffile==2021.7.2\n",
      "tinycss==0.4\n",
      "tldextract==3.2.0\n",
      "toml==0.10.2\n",
      "tomli==1.2.2\n",
      "toolz==0.11.2\n",
      "tornado==6.1\n",
      "tqdm==4.64.0\n",
      "traitlets==5.1.1\n",
      "twisted-iocpsupport==1.0.2\n",
      "twisted==22.2.0\n",
      "typed-ast==1.4.3\n",
      "typing-extensions==4.1.1\n",
      "ujson==5.1.0\n",
      "unidecode==1.2.0\n",
      "urllib3==1.26.9\n",
      "w3lib==1.21.0\n",
      "watchdog==2.1.6\n",
      "wcwidth==0.2.5\n",
      "webencodings==0.5.1\n",
      "websocket-client==0.58.0\n",
      "werkzeug==2.0.3\n",
      "wheel==0.37.1\n",
      "widgetsnbextension==3.5.2\n",
      "win-inet-pton==1.1.0\n",
      "win-unicode-console==0.5\n",
      "wincertstore==0.2\n",
      "wrapt==1.12.1\n",
      "xarray==0.20.1\n",
      "xlrd==2.0.1\n",
      "xlsxwriter==3.0.3\n",
      "xlwings==0.24.9\n",
      "yapf==0.31.0\n",
      "yarl==1.6.3\n",
      "zict==2.0.0\n",
      "zipp==3.7.0\n",
      "zope.interface==5.4.0\n"
     ]
    }
   ],
   "source": [
    "import pkg_resources\n",
    "#\n",
    "installed_packages = pkg_resources.working_set\n",
    "installed_packages_list = sorted([\"%s==%s\" % (i.key, i.version) for i in installed_packages])\n",
    "print(\"\\n\".join(installed_packages_list))"
   ]
  },
  {
   "cell_type": "code",
   "execution_count": 4,
   "metadata": {},
   "outputs": [],
   "source": [
    "import numpy as np\n",
    "import pandas as pd\n",
    "#\n",
    "np.random.seed(1)\n",
    "#\n",
    "beta_0 = 1\n",
    "beta_1 = 2\n",
    "N = 50\n",
    "#\n",
    "x = np.random.normal(loc = 0, scale = 5, size = N)\n",
    "eps = np.random.normal(loc = 0, scale = 1, size = len(x))\n",
    "y = beta_0 + beta_1 * x + eps\n",
    "#Conditional expectation of Y:\n",
    "y_ce = beta_0 + beta_1 * x"
   ]
  },
  {
   "cell_type": "code",
   "execution_count": 5,
   "metadata": {},
   "outputs": [
    {
     "name": "stdout",
     "output_type": "stream",
     "text": [
      "        y_ce          y          x\n",
      "0  17.243454  17.543624   8.121727\n",
      "1  -5.117564  -5.469814  -3.058782\n",
      "2  -4.281718  -5.424236  -2.640859\n",
      "3  -9.729686 -10.079029  -5.364843\n",
      "4   9.654076   9.445182   4.327038\n",
      "5 -22.015387 -21.428764 -11.507693\n"
     ]
    }
   ],
   "source": [
    "print(pd.DataFrame({'y_ce':y_ce, 'y':y, 'x':x}).head(6))"
   ]
  },
  {
   "cell_type": "code",
   "execution_count": 6,
   "metadata": {},
   "outputs": [
    {
     "data": {
      "image/png": "[encoded data removed]",
      "text/plain": [
       "<Figure size 432x288 with 1 Axes>"
      ]
     },
     "metadata": {
      "needs_background": "light"
     },
     "output_type": "display_data"
    }
   ],
   "source": [
    "import matplotlib.pyplot as plt\n",
    "from matplotlib.lines import Line2D\n",
    "#\n",
    "_ = plt.figure(0)\n",
    "_ = plt.plot(x, y, linestyle = \"None\", marker = \"o\", markerfacecolor='none');\n",
    "_ = plt.plot(x, y_ce, linestyle = \"-\", color = \"red\");\n",
    "legend_lines = [Line2D([0], [0], color = \"red\", \n",
    "                        label='$E(Y|X) = \\\\beta_0 + \\\\beta_1 X$'),\n",
    "                Line2D([0], [0], linestyle = \"None\", markerfacecolor = \"None\",\n",
    "                      marker = \"o\", label='sample data')]\n",
    "_ = plt.legend(handles = legend_lines, loc = 'upper left')\n",
    "plt.show()"
   ]
  },
  {
   "cell_type": "markdown",
   "metadata": {},
   "source": [
    "3.2.2 Derivation of the Ordinary Least Squares Estimator"
   ]
  },
  {
   "cell_type": "code",
   "execution_count": 7,
   "metadata": {},
   "outputs": [
    {
     "data": {
      "image/png": "[encoded data removed]",
      "text/plain": [
       "<Figure size 720x576 with 1 Axes>"
      ]
     },
     "metadata": {
      "needs_background": "light"
     },
     "output_type": "display_data"
    }
   ],
   "source": [
    "import numpy as np\n",
    "import pandas as pd\n",
    "import matplotlib.pyplot as plt\n",
    "#\n",
    "np.random.seed(234)\n",
    "# Set the coefficients:\n",
    "N = 50\n",
    "beta_0 = 1\n",
    "beta_1 = 0.5\n",
    "# Generate sample data:\n",
    "x = np.arange(start = 0, stop = N + 1, step = 1)\n",
    "#x = list(range(0, N + 1)) # not np.ndarray \n",
    "e = np.random.normal(loc = 0, scale = 1, size = len(x))\n",
    "y = beta_0 + beta_1 * x + e\n",
    "# Plot the data\n",
    "_ = plt.figure(num = 0, figsize = (10, 8))\n",
    "_ = plt.plot(x, y, linestyle = \"None\", marker = \"o\", markerfacecolor = 'none')\n",
    "plt.show()"
   ]
  },
  {
   "cell_type": "markdown",
   "metadata": {},
   "source": [
    "The Method of Moments (MM) \n",
    "OR\n",
    "THE OLS - System of Partial Derivatives Method \n",
    "\n",
    "will both yield the same results for our estimators\n"
   ]
  },
  {
   "cell_type": "code",
   "execution_count": 8,
   "metadata": {},
   "outputs": [
    {
     "name": "stdout",
     "output_type": "stream",
     "text": [
      "Estimated beta_0 = 0.8385362094098401. True beta_0 = 1\n"
     ]
    }
   ],
   "source": [
    "beta_1_est = np.cov(x, y, bias = True)[0][1] / np.var(x)\n",
    "beta_0_est = np.mean(y) - beta_1_est * np.mean(x)\n",
    "print(\"Estimated beta_0 = \" + str(beta_0_est) + \". True beta_0 = \" + str(beta_0))"
   ]
  },
  {
   "cell_type": "markdown",
   "metadata": {},
   "source": [
    "Note that bias = True calculates the population covariance (with division by  \n",
    "N\n",
    " ), whereas bias = False calculates the sample covariance (with  \n",
    "N\n",
    "−\n",
    "1\n",
    "  instead of  \n",
    "N\n",
    " ) and the variance function var() calculates the population variance. Since we are dividing the covariance by the variance, we need to calculate both of them for the population (or the sample, since we are dividing the covariance by the variance):"
   ]
  },
  {
   "cell_type": "code",
   "execution_count": 9,
   "metadata": {},
   "outputs": [
    {
     "name": "stdout",
     "output_type": "stream",
     "text": [
      "With bias = False (default) the estimate of beta_1 is biased: \n",
      "\t0.5201206393962936\n"
     ]
    }
   ],
   "source": [
    "print(\"With bias = False (default) the estimate of beta_1 is biased: \\n\\t\" + \n",
    "      str(np.cov(x, y)[0][1] / np.var(x)))"
   ]
  },
  {
   "cell_type": "code",
   "execution_count": 10,
   "metadata": {},
   "outputs": [
    {
     "name": "stdout",
     "output_type": "stream",
     "text": [
      "With sample variance the estimate of beta_1 is unbiased: \n",
      "\t0.5099221954865624\n"
     ]
    }
   ],
   "source": [
    "print(\"With sample variance the estimate of beta_1 is unbiased: \\n\\t\" + \n",
    "      str(np.cov(x, y)[0][1] / np.var(x, ddof = 1)))"
   ]
  },
  {
   "cell_type": "markdown",
   "metadata": {},
   "source": [
    "![](2022-06-29-21-30-11.png)"
   ]
  },
  {
   "cell_type": "markdown",
   "metadata": {},
   "source": [
    "3.2.2.3 OLS - The Matrix Method"
   ]
  },
  {
   "cell_type": "markdown",
   "metadata": {},
   "source": [
    "Remember the matrix notation for OLS as it contains both b0 and b1 (and potentially all other estimators for multiple linear regression), instead of using Method of moment or partial derative method which only apply to 1 estimator"
   ]
  },
  {
   "cell_type": "markdown",
   "metadata": {},
   "source": []
  },
  {
   "cell_type": "code",
   "execution_count": 11,
   "metadata": {},
   "outputs": [
    {
     "name": "stdout",
     "output_type": "stream",
     "text": [
      "[0.83853621 0.5099222 ]\n"
     ]
    }
   ],
   "source": [
    "import statsmodels.api as sm\n",
    "#\n",
    "x_mat = sm.add_constant(x)  # Add a constant column - not optional!\n",
    "lm_model = sm.OLS(y, x_mat) # Create the OLS regression object\n",
    "lm_fit = lm_model.fit()     # Estimate the parameters\n",
    "print(lm_fit.params)       # Extract the parameter estimates"
   ]
  },
  {
   "cell_type": "markdown",
   "metadata": {},
   "source": [
    "Absolument important: Fitted values: we are gonna pass our actual X to the OLS model. \n",
    "the residuals will be the difference between Yi and the fitted result \" Yi hat\" "
   ]
  },
  {
   "cell_type": "code",
   "execution_count": 12,
   "metadata": {},
   "outputs": [
    {
     "data": {
      "image/png": "[encoded data removed]",
      "text/plain": [
       "<Figure size 720x576 with 1 Axes>"
      ]
     },
     "metadata": {
      "needs_background": "light"
     },
     "output_type": "display_data"
    }
   ],
   "source": [
    "# The unknown DGP:\n",
    "y_dgp = beta_0 + beta_1 * x\n",
    "# The fitted values:\n",
    "y_fit = beta_0_est + beta_1_est * x\n",
    "# Plot the sample data\n",
    "_ = plt.figure(num = 0, figsize = (10, 8))\n",
    "_ = plt.plot(x, y, linestyle = \"None\", marker = \"o\", markerfacecolor = 'green')\n",
    "_ = plt.title(\"Scatter diagram of (X,Y) sample data and the regression line\")\n",
    "# Plot the Unknown Population regression:\n",
    "_ = plt.plot(x, y_dgp, linestyle = \"--\", color = \"green\", \n",
    "              label='$E(Y|X) = \\\\beta_0 + \\\\beta_1 X$')\n",
    "# Plot the fitted regression line:\n",
    "_ = plt.plot(x, y_fit, linestyle = \"-\", color = \"blue\",\n",
    "              label='$\\widehat{Y} = \\widehat{\\\\beta}_0 + \\widehat{\\\\beta}_1 X$')\n",
    "_ = plt.legend()\n",
    "plt.show()"
   ]
  },
  {
   "cell_type": "code",
   "execution_count": 13,
   "metadata": {},
   "outputs": [
    {
     "data": {
      "image/png": "[encoded data removed]",
      "text/plain": [
       "<Figure size 720x576 with 1 Axes>"
      ]
     },
     "metadata": {
      "needs_background": "light"
     },
     "output_type": "display_data"
    }
   ],
   "source": [
    "_ = plt.figure(num = 1, figsize=(10, 8))\n",
    "_ = plt.plot(x, y, linestyle = \"None\", marker = \"o\", markerfacecolor = 'black')\n",
    "_ = plt.ylim(ymin = 0, ymax = 12)\n",
    "_ = plt.xlim(xmin = 10, xmax = 20)\n",
    "_ = plt.title(\"Scatter diagram of (X,Y) sample data and the regression line\")\n",
    "_ = plt.plot(x, y_dgp, linestyle = \"--\", color = \"green\")\n",
    "# Add Axis labels and ticks at specific positions:\n",
    "_ = plt.xticks([x[12], x[16]], [\"$X_{13}$\", \"$X_{17}$\"])\n",
    "# Add vertical lines:\n",
    "_ = plt.plot([x[12], x[12]], [0, y_fit[12]], '--', color = \"black\")\n",
    "_ = plt.plot([x[12], x[12]], [0, y[12]], '-', color = \"black\")\n",
    "_ = plt.plot([x[16], x[16]], [0, y[16]], '-', color = \"black\")\n",
    "# Add some brackets:\n",
    "_ = plt.annotate(\"\", xy = (x[12]*0.955, y[12] / 2), \n",
    "             xytext = (x[12]*0.975, y[12] / 2),\n",
    "             arrowprops = dict(arrowstyle = \"]-, widthA=10.3,lengthA=1\",\n",
    "                               connectionstyle = \"arc\", color='red'))\n",
    "_ = plt.annotate(\"\", xy = (x[12]*1.015, y_fit[12] / 2),\n",
    "             xytext = (x[12]*1.035, y_fit[12] / 2),\n",
    "             arrowprops = dict(arrowstyle = \"-[, widthB=12.5,lengthB=1\",\n",
    "                               connectionstyle = \"arc\", color='red'))\n",
    "_ = plt.annotate(\"\", xy = (x[16]*1.015, y_fit[16] / 2), \n",
    "             xytext = (x[16]*1.035, y_fit[16] / 2),\n",
    "             arrowprops = dict(arrowstyle = \"-[, widthB=16.2,lengthB=1.2\",\n",
    "                               connectionstyle = \"arc\", color='red'))\n",
    "_ = plt.annotate(\"\", xy = (x[16]*1.015, (y[16] + y_fit[16]) / 2),\n",
    "             xytext = (x[16]*1.035, (y[16] + y_fit[16]) / 2),\n",
    "             arrowprops = dict(arrowstyle = \"-[, widthB=2.5,lengthB=1.2\",\n",
    "                               connectionstyle = \"arc\", color='red'))\n",
    "# Add Actual, Fitted and Residual indicator text:\n",
    "_ = plt.text(x[12]*0.93, y[12] / 2.1, r'$Y_{13}$', fontsize = 10)\n",
    "_ = plt.text(x[12]*1.04, y_fit[12] / 2.1, r'$\\widehat{Y}_{13}$', fontsize = 10)\n",
    "_ = plt.text(x[16]*1.04, y_fit[16] / 2.1, \n",
    "  r'$\\widehat{Y}_6$ = fitted value', fontsize = 10)\n",
    "_ = plt.text(x[16]*1.04, (y[16] + y_fit[16]) / 2.02, \n",
    "  r'$\\widehat{\\epsilon}_6$ = residual', fontsize = 10)\n",
    "# Add Regression line\n",
    "_ = plt.text(x[17] - 0.2, y[20], \n",
    "  r'$\\widehat{Y} = \\widehat{\\beta}_0 + \\widehat{\\beta}_1 X$', fontsize = 10)\n",
    "_ = plt.annotate(\"\", xy = (x[19], y_fit[19]), xytext = (x[18]*0.99, y[20]),\n",
    "            arrowprops = dict(arrowstyle = \"->\", \n",
    "                              connectionstyle = \"arc\", color='red'))\n",
    "plt.show()"
   ]
  },
  {
   "cell_type": "markdown",
   "metadata": {},
   "source": [
    "3.2.4 Properties of the OLS estimator"
   ]
  },
  {
   "cell_type": "code",
   "execution_count": 14,
   "metadata": {},
   "outputs": [
    {
     "name": "stdout",
     "output_type": "stream",
     "text": [
      "Sum of the residuals: 7.904787935331115e-14\n"
     ]
    }
   ],
   "source": [
    "resid = y - y_fit\n",
    "print(\"Sum of the residuals: \" + str(sum(resid)))"
   ]
  },
  {
   "cell_type": "code",
   "execution_count": 15,
   "metadata": {},
   "outputs": [
    {
     "name": "stdout",
     "output_type": "stream",
     "text": [
      "Sum of X*resid: 2.4371615836571436e-12\n"
     ]
    }
   ],
   "source": [
    "print(\"Sum of X*resid: \" + str(sum(np.array(resid) * np.array(x))))"
   ]
  },
  {
   "cell_type": "code",
   "execution_count": 20,
   "metadata": {},
   "outputs": [
    {
     "name": "stdout",
     "output_type": "stream",
     "text": [
      "Predicted value with mean(X): 13.5865910965739\n",
      "Sample mean of Y: 13.5865910965739\n"
     ]
    },
    {
     "data": {
      "text/plain": [
       "(None, None)"
      ]
     },
     "execution_count": 20,
     "metadata": {},
     "output_type": "execute_result"
    }
   ],
   "source": [
    "print(\"Predicted value with mean(X): \" + str(beta_0_est + beta_1_est * np.mean(x))) , print(\"Sample mean of Y: \" + str(np.mean(y)))\n",
    "\n"
   ]
  },
  {
   "cell_type": "markdown",
   "metadata": {},
   "source": [
    "OLS estimators are BLUE\n",
    "Best: smallest variance  | Linear ( can be expressed as y=ax+b)  | Unbiaised : E[e hat] = e | Estimators \n",
    "\n",
    "\n",
    "They are also consistent:\n",
    "\n",
    "Unbiased estimators are not necessarily consistent, but those whose variances shrink to zero as the sample size grows are consistent. In other words:"
   ]
  },
  {
   "cell_type": "code",
   "execution_count": 21,
   "metadata": {},
   "outputs": [
    {
     "name": "stdout",
     "output_type": "stream",
     "text": [
      "[0.26999713 0.00930656]\n"
     ]
    }
   ],
   "source": [
    "sigma2_est = sum(resid**2) / (len(x) - 2)\n",
    "var_beta = sigma2_est * np.linalg.inv(np.dot(np.transpose(x_mat), x_mat))\n",
    "print(np.sqrt(np.diag(var_beta)))"
   ]
  },
  {
   "cell_type": "markdown",
   "metadata": {},
   "source": [
    "3.2.4.7 Practical illustration of the OLS properties\n",
    "\n",
    "We will return to our example in this chapter. We have recently proved the unbiasedness and consistency of OLS estimators. To illustrate these properties empirically, we will generate 5000 replications (i.e. different samples) for each of the different sample sizes   "
   ]
  },
  {
   "cell_type": "code",
   "execution_count": 24,
   "metadata": {},
   "outputs": [
    {
     "name": "stdout",
     "output_type": "stream",
     "text": [
      "True beta_0 = 1. True beta_1 = 0.5\n",
      "With N = 10:\n",
      "\t the AVERAGE of the estimated parameters:\n",
      "\t\t beta_0: 1.00437\n",
      "\t\t beta_1: 0.49984\n",
      "With N = 100:\n",
      "\t the AVERAGE of the estimated parameters:\n",
      "\t\t beta_0: 0.99789\n",
      "\t\t beta_1: 0.50006\n",
      "With N = 1000:\n",
      "\t the AVERAGE of the estimated parameters:\n",
      "\t\t beta_0: 0.99957\n",
      "\t\t beta_1: 0.5\n"
     ]
    }
   ],
   "source": [
    "np.random.seed(1)\n",
    "# Set the sample size:\n",
    "N = [10, 100, 1000]\n",
    "#\n",
    "beta_0_est = []\n",
    "beta_1_est = []\n",
    "# Generate samples of different sizes:\n",
    "for n in N:\n",
    "    x = np.arange(start = 0, stop = n + 1, step = 1)\n",
    "    x_mat = np.column_stack((np.ones(len(x)), x))\n",
    "    xtx = np.dot(np.transpose(x_mat), x_mat)\n",
    "    # Repeatedly generate a random sample and estimate the parameters\n",
    "    beta_0_temp = []\n",
    "    beta_1_temp = []\n",
    "    for smpl in range(0, 5000):\n",
    "        # Generate Y:\n",
    "        e = np.random.normal(loc = 0, scale = 1, size = len(x))\n",
    "        y = beta_0 + beta_1 * x + e\n",
    "        # Estimate the parameters:\n",
    "        xty = np.dot(np.transpose(x_mat), y)\n",
    "        beta_mat = np.dot(np.linalg.inv(xtx), xty)\n",
    "        # Save the estimated parameters:\n",
    "        beta_0_temp = np.append(beta_0_temp, [beta_mat[0]])\n",
    "        beta_1_temp = np.append(beta_1_temp, [beta_mat[1]])\n",
    "    # Save all the estimated parameters to one parameter matrix\n",
    "    # each column represents the different sample size from N:\n",
    "    if len(beta_0_est) == 0 and len(beta_1_est) == 0:\n",
    "        beta_0_est = beta_0_temp\n",
    "        beta_1_est = beta_1_temp\n",
    "    else:\n",
    "        beta_0_est = np.vstack((beta_0_est, beta_0_temp))\n",
    "        beta_1_est = np.vstack((beta_1_est, beta_1_temp))\n",
    "\n",
    "print(\"True beta_0 = \" + str(beta_0) + \". True beta_1 = \" + str(beta_1))\n",
    "\n",
    "\n",
    "for i in range(0, len(N)):\n",
    "    print(\"With N = \" + str(N[i]) + \":\" +\n",
    "          \"\\n\\t the AVERAGE of the estimated parameters:\" +\n",
    "          \"\\n\\t\\t beta_0: \" + str(np.round(np.mean(beta_0_est[i]), 5)) +\n",
    "          \"\\n\\t\\t beta_1: \" + str(np.round(np.mean(beta_1_est[i]), 5)))"
   ]
  },
  {
   "cell_type": "code",
   "execution_count": 25,
   "metadata": {},
   "outputs": [
    {
     "name": "stdout",
     "output_type": "stream",
     "text": [
      "With N = 10:\n",
      "\t the VARIANCE of the estimated parameters:\n",
      "\t\t beta_0: 0.3178\n",
      "\t\t beta_1: 0.00904\n",
      "With N = 100:\n",
      "\t the VARIANCE of the estimated parameters:\n",
      "\t\t beta_0: 0.03896\n",
      "\t\t beta_1: 1e-05\n",
      "With N = 1000:\n",
      "\t the VARIANCE of the estimated parameters:\n",
      "\t\t beta_0: 0.00394\n",
      "\t\t beta_1: 0.0\n"
     ]
    }
   ],
   "source": [
    "for i in range(0, len(N)):    \n",
    "    print(\"With N = \" + str(N[i]) + \":\" +\n",
    "          \"\\n\\t the VARIANCE of the estimated parameters:\" +\n",
    "          \"\\n\\t\\t beta_0: \" + str(np.round(np.var(beta_0_est[i]), 5)) + \n",
    "          \"\\n\\t\\t beta_1: \" + str(np.round(np.var(beta_1_est[i]), 5)))\n",
    "#"
   ]
  },
  {
   "cell_type": "code",
   "execution_count": 31,
   "metadata": {},
   "outputs": [
    {
     "name": "stdout",
     "output_type": "stream",
     "text": [
      "[1.21815132 0.45602676]\n"
     ]
    }
   ],
   "source": [
    "np.random.seed(123)\n",
    "# Set the coefficients:\n",
    "N = 300\n",
    "beta_0 = 1\n",
    "beta_1 = 0.5\n",
    "# Generate sample data:\n",
    "x = np.random.normal(loc = 5, scale = 2, size = N)\n",
    "e = np.random.normal(loc = 0, scale = 1, size = len(x))\n",
    "y = beta_0 + beta_1 * x + e\n",
    "# Estimate the model:\n",
    "x_mat = np.column_stack((np.ones(len(x)), x))\n",
    "beta_mat = np.dot(np.linalg.inv(np.dot(np.transpose(x_mat), x_mat)), \n",
    "                  np.dot(np.transpose(x_mat), y))\n",
    "print(beta_mat)"
   ]
  },
  {
   "cell_type": "code",
   "execution_count": 32,
   "metadata": {},
   "outputs": [
    {
     "data": {
      "image/png": "[encoded data removed]",
      "text/plain": [
       "<Figure size 720x576 with 1 Axes>"
      ]
     },
     "metadata": {
      "needs_background": "light"
     },
     "output_type": "display_data"
    }
   ],
   "source": [
    "# Calcualte the fitted values\n",
    "y_fit = beta_mat[0] + beta_mat[1] * x\n",
    "# Plot the data and the fitted regression:\n",
    "_ = plt.figure(num = 3, figsize = (10, 8))\n",
    "_ = plt.plot(x, y, linestyle = \"None\", marker = \"o\", markerfacecolor = 'None',\n",
    "              markeredgecolor = \"black\")\n",
    "_ = plt.plot(x, y_fit, linestyle = \"-\", color = \"blue\")\n",
    "plt.show()"
   ]
  },
  {
   "cell_type": "code",
   "execution_count": 33,
   "metadata": {},
   "outputs": [
    {
     "name": "stdout",
     "output_type": "stream",
     "text": [
      "[1.10062011 0.49214627]\n"
     ]
    }
   ],
   "source": [
    "np.random.seed(123)\n",
    "# Set the coefficients:\n",
    "N = 300\n",
    "beta_0 = 1\n",
    "beta_1 = 0.5\n",
    "# Generate sample data:\n",
    "x = np.random.choice(list(range(1, 51)), size = N, replace = True)\n",
    "e = np.random.normal(loc = 0, scale = 1, size = len(x))\n",
    "y = beta_0 + beta_1 * x + e\n",
    "# Estimate the model:\n",
    "x_mat = np.column_stack((np.ones(len(x)), x))\n",
    "beta_mat = np.dot(np.linalg.inv(np.dot(np.transpose(x_mat), x_mat)), \n",
    "                  np.dot(np.transpose(x_mat), y))\n",
    "print(beta_mat)"
   ]
  },
  {
   "cell_type": "code",
   "execution_count": 35,
   "metadata": {},
   "outputs": [
    {
     "data": {
      "image/png": "[encoded data removed]",
      "text/plain": [
       "<Figure size 720x576 with 1 Axes>"
      ]
     },
     "metadata": {
      "needs_background": "light"
     },
     "output_type": "display_data"
    }
   ],
   "source": [
    "# Calcualte the fitted values\n",
    "y_fit = beta_mat[0] + beta_mat[1] * x\n",
    "# Plot the data and the fitted regression:\n",
    "_ = plt.figure(num = 4, figsize = (10, 8))\n",
    "_ = plt.plot(x, y, linestyle = \"None\", marker = \"o\", markerfacecolor = 'None',\n",
    "              markeredgecolor = \"black\")\n",
    "_ = plt.plot(x, y_fit, linestyle = \"-\", color = \"blue\")\n",
    "plt.show()"
   ]
  },
  {
   "cell_type": "code",
   "execution_count": 46,
   "metadata": {},
   "outputs": [
    {
     "data": {
      "image/jpeg": "[encoded data removed]",
      "text/plain": [
       "<IPython.core.display.Image object>"
      ]
     },
     "execution_count": 46,
     "metadata": {},
     "output_type": "execute_result"
    }
   ],
   "source": [
    "from IPython.display import Image\n",
    "Image('Univariable_OLS_estimators.jpg')"
   ]
  },
  {
   "cell_type": "code",
   "execution_count": 47,
   "metadata": {},
   "outputs": [
    {
     "data": {
      "image/jpeg": "[encoded data removed]",
      "text/plain": [
       "<IPython.core.display.Image object>"
      ]
     },
     "execution_count": 47,
     "metadata": {},
     "output_type": "execute_result"
    }
   ],
   "source": [
    "from IPython.display import Image\n",
    "Image('QRM.jpg')"
   ]
  },
  {
   "cell_type": "markdown",
   "metadata": {},
   "source": [
    "3.3.3.2 Log-Linear Regression Model"
   ]
  }
 ],
 "metadata": {
  "kernelspec": {
   "display_name": "Python 3.9.12 ('base')",
   "language": "python",
   "name": "python3"
  },
  "language_info": {
   "codemirror_mode": {
    "name": "ipython",
    "version": 3
   },
   "file_extension": ".py",
   "mimetype": "text/x-python",
   "name": "python",
   "nbconvert_exporter": "python",
   "pygments_lexer": "ipython3",
   "version": "3.9.12"
  },
  "orig_nbformat": 4,
  "vscode": {
   "interpreter": {
    "hash": "f71697013d76e192046347603e9541ea88dc58adcc0e0b5a71eda0b6e40070d8"
   }
  }
 },
 "nbformat": 4,
 "nbformat_minor": 2
}
